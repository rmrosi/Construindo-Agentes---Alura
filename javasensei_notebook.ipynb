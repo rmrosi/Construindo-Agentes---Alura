{
  "cells": [
    {
      "cell_type": "markdown",
      "metadata": {
        "id": "view-in-github",
        "colab_type": "text"
      },
      "source": [
        "<a href=\"https://colab.research.google.com/github/rmrosi/Construindo-Agentes---Alura/blob/main/javasensei_notebook.ipynb\" target=\"_parent\"><img src=\"https://colab.research.google.com/assets/colab-badge.svg\" alt=\"Open In Colab\"/></a>"
      ]
    },
    {
      "cell_type": "markdown",
      "id": "013cf284",
      "metadata": {
        "id": "013cf284"
      },
      "source": [
        "# 🎓 JavaSensei: O Corretor Inteligente que avalia o seu Código com o Estilo do seu Professor\n",
        "\n",
        "Este notebook permite que você utilize o agente inteligente JavaSensei para avaliar automaticamente códigos Java com base em critérios personalizados definidos por um professor.\n",
        "\n",
        "📅 Última atualização: 17/05/2025\n"
      ]
    },
    {
      "cell_type": "markdown",
      "source": [
        "## 📝 Instalar o Google Gemini"
      ],
      "metadata": {
        "id": "HRaKzflhIHUV"
      },
      "id": "HRaKzflhIHUV"
    },
    {
      "cell_type": "code",
      "source": [
        "\n",
        "!pip -q install google-genai"
      ],
      "metadata": {
        "id": "AvSIsVjoFjn_"
      },
      "id": "AvSIsVjoFjn_",
      "execution_count": 1,
      "outputs": []
    },
    {
      "cell_type": "markdown",
      "source": [
        "## 📝 Configura a API Key do Google Gemini"
      ],
      "metadata": {
        "id": "IdA-MnNAH5fM"
      },
      "id": "IdA-MnNAH5fM"
    },
    {
      "cell_type": "code",
      "source": [
        "import os\n",
        "from google.colab import userdata\n",
        "\n",
        "os.environ[\"GOOGLE_API_KEY\"] = userdata.get('GOOGLE_API_KEY')"
      ],
      "metadata": {
        "id": "MHSMDiFqFnOh"
      },
      "id": "MHSMDiFqFnOh",
      "execution_count": 2,
      "outputs": []
    },
    {
      "cell_type": "markdown",
      "source": [
        "## 📝 Configura o cliente da SDK do Gemini"
      ],
      "metadata": {
        "id": "-gnMyd-vHu0F"
      },
      "id": "-gnMyd-vHu0F"
    },
    {
      "cell_type": "code",
      "source": [
        "from google import genai\n",
        "\n",
        "client = genai.Client()\n",
        "\n",
        "MODEL_ID = \"gemini-2.0-flash\""
      ],
      "metadata": {
        "id": "1b7YWRa7FxL7"
      },
      "id": "1b7YWRa7FxL7",
      "execution_count": 3,
      "outputs": []
    },
    {
      "cell_type": "markdown",
      "source": [
        "## 📝 Instalar Framework ADK de agentes do Google"
      ],
      "metadata": {
        "id": "405U4rYjHfTo"
      },
      "id": "405U4rYjHfTo"
    },
    {
      "cell_type": "code",
      "source": [
        "!pip install -q google-adk"
      ],
      "metadata": {
        "colab": {
          "base_uri": "https://localhost:8080/"
        },
        "id": "9VlbmuyyF0pt",
        "outputId": "d53cd1d0-b2a9-4b67-d2e6-5dc0297a28a6"
      },
      "id": "9VlbmuyyF0pt",
      "execution_count": 4,
      "outputs": [
        {
          "output_type": "stream",
          "name": "stdout",
          "text": [
            "\u001b[?25l   \u001b[90m━━━━━━━━━━━━━━━━━━━━━━━━━━━━━━━━━━━━━━━━\u001b[0m \u001b[32m0.0/1.2 MB\u001b[0m \u001b[31m?\u001b[0m eta \u001b[36m-:--:--\u001b[0m\r\u001b[2K   \u001b[91m━━━━━━━━━━━━━━━━━━━━━━━━━━━━━━━━━━━━━━━\u001b[0m\u001b[91m╸\u001b[0m \u001b[32m1.2/1.2 MB\u001b[0m \u001b[31m39.2 MB/s\u001b[0m eta \u001b[36m0:00:01\u001b[0m\r\u001b[2K   \u001b[90m━━━━━━━━━━━━━━━━━━━━━━━━━━━━━━━━━━━━━━━━\u001b[0m \u001b[32m1.2/1.2 MB\u001b[0m \u001b[31m25.4 MB/s\u001b[0m eta \u001b[36m0:00:00\u001b[0m\n",
            "\u001b[2K   \u001b[90m━━━━━━━━━━━━━━━━━━━━━━━━━━━━━━━━━━━━━━━━\u001b[0m \u001b[32m232.1/232.1 kB\u001b[0m \u001b[31m15.4 MB/s\u001b[0m eta \u001b[36m0:00:00\u001b[0m\n",
            "\u001b[2K   \u001b[90m━━━━━━━━━━━━━━━━━━━━━━━━━━━━━━━━━━━━━━━━\u001b[0m \u001b[32m95.2/95.2 kB\u001b[0m \u001b[31m6.9 MB/s\u001b[0m eta \u001b[36m0:00:00\u001b[0m\n",
            "\u001b[2K   \u001b[90m━━━━━━━━━━━━━━━━━━━━━━━━━━━━━━━━━━━━━━━━\u001b[0m \u001b[32m217.1/217.1 kB\u001b[0m \u001b[31m15.6 MB/s\u001b[0m eta \u001b[36m0:00:00\u001b[0m\n",
            "\u001b[2K   \u001b[90m━━━━━━━━━━━━━━━━━━━━━━━━━━━━━━━━━━━━━━━━\u001b[0m \u001b[32m334.1/334.1 kB\u001b[0m \u001b[31m22.9 MB/s\u001b[0m eta \u001b[36m0:00:00\u001b[0m\n",
            "\u001b[2K   \u001b[90m━━━━━━━━━━━━━━━━━━━━━━━━━━━━━━━━━━━━━━━━\u001b[0m \u001b[32m125.1/125.1 kB\u001b[0m \u001b[31m8.7 MB/s\u001b[0m eta \u001b[36m0:00:00\u001b[0m\n",
            "\u001b[2K   \u001b[90m━━━━━━━━━━━━━━━━━━━━━━━━━━━━━━━━━━━━━━━━\u001b[0m \u001b[32m65.8/65.8 kB\u001b[0m \u001b[31m4.6 MB/s\u001b[0m eta \u001b[36m0:00:00\u001b[0m\n",
            "\u001b[2K   \u001b[90m━━━━━━━━━━━━━━━━━━━━━━━━━━━━━━━━━━━━━━━━\u001b[0m \u001b[32m119.0/119.0 kB\u001b[0m \u001b[31m8.5 MB/s\u001b[0m eta \u001b[36m0:00:00\u001b[0m\n",
            "\u001b[2K   \u001b[90m━━━━━━━━━━━━━━━━━━━━━━━━━━━━━━━━━━━━━━━━\u001b[0m \u001b[32m194.9/194.9 kB\u001b[0m \u001b[31m13.5 MB/s\u001b[0m eta \u001b[36m0:00:00\u001b[0m\n",
            "\u001b[2K   \u001b[90m━━━━━━━━━━━━━━━━━━━━━━━━━━━━━━━━━━━━━━━━\u001b[0m \u001b[32m62.5/62.5 kB\u001b[0m \u001b[31m3.8 MB/s\u001b[0m eta \u001b[36m0:00:00\u001b[0m\n",
            "\u001b[2K   \u001b[90m━━━━━━━━━━━━━━━━━━━━━━━━━━━━━━━━━━━━━━━━\u001b[0m \u001b[32m103.3/103.3 kB\u001b[0m \u001b[31m7.4 MB/s\u001b[0m eta \u001b[36m0:00:00\u001b[0m\n",
            "\u001b[2K   \u001b[90m━━━━━━━━━━━━━━━━━━━━━━━━━━━━━━━━━━━━━━━━\u001b[0m \u001b[32m44.4/44.4 kB\u001b[0m \u001b[31m2.9 MB/s\u001b[0m eta \u001b[36m0:00:00\u001b[0m\n",
            "\u001b[2K   \u001b[90m━━━━━━━━━━━━━━━━━━━━━━━━━━━━━━━━━━━━━━━━\u001b[0m \u001b[32m72.0/72.0 kB\u001b[0m \u001b[31m5.1 MB/s\u001b[0m eta \u001b[36m0:00:00\u001b[0m\n",
            "\u001b[?25h"
          ]
        }
      ]
    },
    {
      "cell_type": "code",
      "source": [
        "from google.adk.agents import Agent\n",
        "from google.adk.runners import Runner\n",
        "from google.adk.sessions import InMemorySessionService\n",
        "from google.adk.tools import google_search\n",
        "from google.genai import types  # Para criar conteúdos (Content e Part)\n",
        "from datetime import date\n",
        "import textwrap # Para formatar melhor a saída de texto\n",
        "from IPython.display import display, Markdown # Para exibir texto formatado no Colab\n",
        "import requests # Para fazer requisições HTTP\n",
        "import warnings\n",
        "\n",
        "warnings.filterwarnings(\"ignore\")"
      ],
      "metadata": {
        "id": "Jmphr88IGweC"
      },
      "id": "Jmphr88IGweC",
      "execution_count": 5,
      "outputs": []
    },
    {
      "cell_type": "markdown",
      "source": [
        "## 📝 Função que envia uma mensagem para um agente via Runner e retorna a resposta final"
      ],
      "metadata": {
        "id": "HTk_slKyHD_O"
      },
      "id": "HTk_slKyHD_O"
    },
    {
      "cell_type": "code",
      "source": [
        "def call_agent(agent: Agent, message_text: str) -> str:\n",
        "    # Cria um serviço de sessão em memória\n",
        "    session_service = InMemorySessionService()\n",
        "    # Cria uma nova sessão (você pode personalizar os IDs conforme necessário)\n",
        "    session = session_service.create_session(app_name=agent.name, user_id=\"user1\", session_id=\"session1\")\n",
        "    # Cria um Runner para o agente\n",
        "    runner = Runner(agent=agent, app_name=agent.name, session_service=session_service)\n",
        "    # Cria o conteúdo da mensagem de entrada\n",
        "    content = types.Content(role=\"user\", parts=[types.Part(text=message_text)])\n",
        "\n",
        "    final_response = \"\"\n",
        "    # Itera assincronamente pelos eventos retornados durante a execução do agente\n",
        "    for event in runner.run(user_id=\"user1\", session_id=\"session1\", new_message=content):\n",
        "        if event.is_final_response():\n",
        "          for part in event.content.parts:\n",
        "            if part.text is not None:\n",
        "              final_response += part.text\n",
        "              final_response += \"\\n\"\n",
        "    return final_response"
      ],
      "metadata": {
        "id": "cWi1SJ8RG-MY"
      },
      "id": "cWi1SJ8RG-MY",
      "execution_count": 6,
      "outputs": []
    },
    {
      "cell_type": "markdown",
      "source": [
        "## 📝 Função auxiliar para exibir texto formatado em Markdown no Colab"
      ],
      "metadata": {
        "id": "Jo6Sj8IuIXpm"
      },
      "id": "Jo6Sj8IuIXpm"
    },
    {
      "cell_type": "code",
      "source": [
        "def to_markdown(text):\n",
        "  text = text.replace('•', '  *')\n",
        "  return Markdown(textwrap.indent(text, '> ', predicate=lambda _: True))"
      ],
      "metadata": {
        "id": "zZk4nb4fIZAv"
      },
      "id": "zZk4nb4fIZAv",
      "execution_count": 7,
      "outputs": []
    },
    {
      "cell_type": "markdown",
      "source": [
        "## 👨‍🏫 Defina os critérios de correção do código fonte (Agente Avaliador)"
      ],
      "metadata": {
        "id": "QrSjC___YGQ3"
      },
      "id": "QrSjC___YGQ3"
    },
    {
      "cell_type": "code",
      "source": [
        "################################################################################\n",
        "# --- Agente 1: Avaliador do código baseado em critérios pré estabelecidos --- #\n",
        "################################################################################\n",
        "def agente_avaliador(atividade, codigo_fonte):\n",
        "  avaliador = Agent(\n",
        "      name = \"agente_avaliador\",\n",
        "      model = \"gemini-2.0-flash\",\n",
        "      instruction=\"\"\"\n",
        "      Você é um especialista em avaliar código fonte escrito na linguagem de programação Java. Será fornecido um texto com a descrição da atividade que deverá ser resolvida através do programa em Java.\n",
        "      As notas devem ser mensuradas entre valores de zeroa a dez (0-10). Use usar a ferramenta de busca do Google (google_search) para recuperar as boas práticas e padrões de programação mais relevantes\n",
        "      para a linguagem Java. A sua tarefa é avaliar o código fonte submetido por um aluno seguindo os critérios abaixo:\n",
        "      1) verificar se o código atende às boas praticas de programação da linguagem Java (padrões de programação);\n",
        "      2) O código fonte deverá conter no mínimo a definição de uma classe e o método principal (main). Se na descrição da atividade for solicitado métodos (funções ou procedimentos) e classes\n",
        "         complementares, a não existência de um ou mais destes elementos deverá ser penalizada.\n",
        "      3) cada um dos itens abaixo (estilo, funcionalidades atendidas, clareza e completude) devem ter notas variando de 0 a 10, mas ponderadas com os seguintes pesos para definir a nota final:\n",
        "         a) estilo: 0.1;\n",
        "         b) funcionalidades atendidas: 0.7;\n",
        "         c) clareza: 0.1;\n",
        "         d) completude: 0.1\n",
        "      4) você deve adotar as seguinte penalidades que somadas não devem ultrapassar a nota máxima 10. Caso ultrapasse, normalize para o valor 10:\n",
        "         a) falta de comentarios: 0.5;\n",
        "         b) variaveis confusas, ou seja, nomenclatura que não está relacionado ao dado a ser armazenado, sem obedecer ao padrão camelCase, dispostas de forma desorganizada,\n",
        "            variáveis desnecessárias ou redundantes: 1.0;\n",
        "         c) estrutura do código ruim, sem obedecer a identação e aos padrões legibilidade e fuidez do código: 1.5;\n",
        "         d) código incompleto: 2.0;\n",
        "         e) codigo não compila: 2.0;\n",
        "         f) variáveis não definidas, mas necessários no código: 1.0;\n",
        "         g) variáveis utilizadas, mas não declarada ou mal declaradas (exemplo: deveria ser do tipo float, mas declarou como int): 0.5;\n",
        "         h) estruturas inadequadas, por exemplo: usar uma estrutura \"for\" para uma condição de parada que não se conhece previamente ou uma estrutura de repetição \"while\"\n",
        "            para uma repetição que já se conhece previamente a quantidade de iterações; ou ainda o uso de condicionais \"if\" sem o uso de \"else\" forçando as testas todas\n",
        "            condições mesmo que a condição procurada já tenha sido testada: 1.0;\n",
        "         i) erros de sintaxe (operadores de atribuição, relacional, lógico e aritmético, estruturas condicionais ou de repetição): 1.5;\n",
        "         j) Mensagens de entrada e saida de dados enviadas para o usuário do programa não amigáveis ou claras: 0.5\n",
        "\n",
        "       Se o código não compilar, mesmo assim, você deve realizar uma avaliacao parcial baseada nos seguintes critérios:\n",
        "       1) quantidades de variaveis corretas e bem definidas: 0.2;\n",
        "       2) uso correto das estrutura condicionais, de repetição estrutura  ou de armazenamento como, por exemplo, vetores e matrizes: 0.4;\n",
        "       3) uso adequado de operadores de atribuição, aritméticos, lógicos e relacionais: 0.3;\n",
        "       4) logica parcialmente correta de seguir a tabela abaixo:\n",
        "          a) \"0% a 10%\": 0.0;\n",
        "          b) \"11% a 40%\": 2.0;\n",
        "          c) \"41% a 60%\": 4.0;\n",
        "          d) \"61% a 80%\": 6.0;\n",
        "          e) \"81% a 99%\": 8.0\n",
        "\n",
        "         As mensagens para o aluno devem ser educativos e gentis. O feedback dado após a avaliação pode serguir os exemplos abaixo:\n",
        "         1) feedback_positivo: \"Você está no caminho certo! Algumas partes da sua lógica fazem sentido.\",\n",
        "         2)feedback_negativo: \"Seu código possui muitas falhas que precisam ser revistas. Verifique a estrutura e a sintaxe.\"\n",
        "      \"\"\",\n",
        "      description=\"Agente que conhece as regras de pontuação do código Java submetido\",\n",
        "      tools=[google_search]\n",
        "  )\n",
        "\n",
        "  entrada_do_agente_avaliador = f\"Atividade {atividade} \\nCódigo fonte: {codigo_fonte}\"\n",
        "\n",
        "  resultado_avaliacao = call_agent(avaliador, entrada_do_agente_avaliador)\n",
        "  return resultado_avaliacao"
      ],
      "metadata": {
        "id": "yn29oZjGYYLk"
      },
      "id": "yn29oZjGYYLk",
      "execution_count": 16,
      "outputs": []
    },
    {
      "cell_type": "markdown",
      "source": [
        "## 👨‍🏫 Normaliza a nota dada pelo agente avaliador baseado no estilo de correção do professor (Agente Normalizador)"
      ],
      "metadata": {
        "id": "pWzKGmiVtptI"
      },
      "id": "pWzKGmiVtptI"
    },
    {
      "cell_type": "code",
      "source": [
        "################################################################################\n",
        "# --- Agente 1: Avaliador do código baseado em critérios pré estabelecidos --- #\n",
        "################################################################################\n",
        "def agente_normalizador(atividade, codigo_fonte, resultado_avaliacao):\n",
        "  normalizador = Agent(\n",
        "      name = \"agente_normalizador\",\n",
        "      model = \"gemini-2.0-flash\",\n",
        "      instruction=\"\"\"\n",
        "      Você recebeu o resultado da avaliação de um especialista em avaliar código fonte escrito na linguagem de programação Java. O especialista fez a avaliação da atividade utilizando as\n",
        "      seguintes regras: as notas foram mensuradas entre valores de zeroa a dez (0-10) utilizando os critérios abaixo:\n",
        "      1) verificar se o código atende às boas praticas de programação da linguagem Java (padrões de programação);\n",
        "      2) O código fonte deverá conter no mínimo a definição de uma classe e o método principal (main). Se na descrição da atividade for solicitado métodos (funções ou procedimentos) e classes\n",
        "         complementares, a não existência de um ou mais destes elementos deverá ser penalizada.\n",
        "      3) cada um dos itens abaixo (estilo, funcionalidades atendidas, clareza e completude) devem ter notas variando de 0 a 10, mas ponderadas com os seguintes pesos para definir a nota final:\n",
        "         a) estilo: 0.1;\n",
        "         b) funcionalidades atendidas: 0.7;\n",
        "         c) clareza: 0.1;\n",
        "         d) completude: 0.1\n",
        "      4) você deve adotar as seguinte penalidades que somadas não devem ultrapassar a nota máxima 10. Caso ultrapasse, normalize para o valor 10:\n",
        "         a) falta de comentarios: 0.5;\n",
        "         b) variaveis confusas, ou seja, nomenclatura que não está relacionado ao dado a ser armazenado, sem obedecer ao padrão camelCase, dispostas de forma desorganizada,\n",
        "            variáveis desnecessárias ou redundantes: 1.0;\n",
        "         c) estrutura do código ruim, sem obedecer a identação e aos padrões legibilidade e fuidez do código: 1.5;\n",
        "         d) código incompleto: 2.0;\n",
        "         e) codigo não compila: 2.0;\n",
        "         f) variáveis não definidas, mas necessários no código: 1.0;\n",
        "         g) variáveis utilizadas, mas não declarada ou mal declaradas (exemplo: deveria ser do tipo float, mas declarou como int): 0.5;\n",
        "         h) estruturas inadequadas, por exemplo: usar uma estrutura \"for\" para uma condição de parada que não se conhece previamente ou uma estrutura de repetição \"while\"\n",
        "            para uma repetição que já se conhece previamente a quantidade de iterações; ou ainda o uso de condicionais \"if\" sem o uso de \"else\" forçando as testas todas\n",
        "            condições mesmo que a condição procurada já tenha sido testada: 1.0;\n",
        "         i) erros de sintaxe (operadores de atribuição, relacional, lógico e aritmético, estruturas condicionais ou de repetição): 1.5;\n",
        "         j) Mensagens de entrada e saida de dados enviadas para o usuário do programa não amigáveis ou claras: 0.5\n",
        "\n",
        "       Se o código não compilar, mesmo assim, você deve realizar uma avaliacao parcial baseada nos seguintes critérios:\n",
        "       1) quantidades de variaveis corretas e bem definidas: 0.2;\n",
        "       2) uso correto das estrutura condicionais, de repetição estrutura  ou de armazenamento como, por exemplo, vetores e matrizes: 0.4;\n",
        "       3) uso adequado de operadores de atribuição, aritméticos, lógicos e relacionais: 0.3;\n",
        "       4) logica parcialmente correta de seguir a tabela abaixo:\n",
        "          a) \"0% a 10%\": 0.0;\n",
        "          b) \"11% a 40%\": 2.0;\n",
        "          c) \"41% a 60%\": 4.0;\n",
        "          d) \"61% a 80%\": 6.0;\n",
        "          e) \"81% a 99%\": 8.0\n",
        "\n",
        "         As mensagens para o aluno devem ser educativos e gentis. O feedback dado após a avaliação pode serguir os exemplos abaixo:\n",
        "         1) feedback_positivo: \"Você está no caminho certo! Algumas partes da sua lógica fazem sentido.\",\n",
        "         2)feedback_negativo: \"Seu código possui muitas falhas que precisam ser revistas. Verifique a estrutura e a sintaxe.\"\n",
        "\n",
        "         A sua função é normalisar a nota dada pelo especialista (resultado da avaliação) se baseando no estilo de avaliação do professor X. Para te ajudar, estou listando abaixo algumas avaliações realizadas\n",
        "         pelo professor X. A lista está posta com a descrição da atividade, o código fonte Java fornecido pelo aluno e a nota final dada pelo professor X:\n",
        "         Avaliação 1:\n",
        "          a) descrição da atividade:\"Uma parede em formato retangular, cuja altura é hp (altura da parede) e a largura lp (largura da parede) precisa ser coberta por azulejos também retangulares.\n",
        "          O azulejo retangular tem dimensões ha (altura do azulejo) e la (largura do azulejo). Escreva um programa que leia as quatro medidas hp, lp, ha e la, calcule e imprima quanto azulejos\n",
        "          com as medidas dadas são necessários para cobrir a parede dada.\"\n",
        "          b) código fonte Java fornecido pelo aluno:\n",
        "          \"import java.util.Scanner;\n",
        "\n",
        "          public class prova {\n",
        "\n",
        "            public static void main(String[] args) {\n",
        "                Scanner scan = new Scanner(System.in);\n",
        "                int calcAreaParede;\n",
        "                int calcAzuleijo;\n",
        "                int hp;\n",
        "                int lp;\n",
        "                int ha;\n",
        "                int la;\n",
        "                int resultado;\n",
        "\n",
        "                //altura parede\n",
        "                System.out.println(\"Digite a altura da parede\");\n",
        "                hp =scan.nextInt();\n",
        "\n",
        "                // largura p\n",
        "                System.out.println(\"Digite a largura da parede\");\n",
        "                lp = scan.nextInt();\n",
        "\n",
        "                //altursa azu\n",
        "                System.out.println(\"Digite a altura do azuleijo\");\n",
        "                ha = scan.nextInt();\n",
        "\n",
        "                //largura azul\n",
        "                System.out.println(\"Digite a largura do azuleijo\");\n",
        "                la = scan.nextInt();\n",
        "\n",
        "                //CALCULO DA AREA\n",
        "                calcAreaParede = hp*lp;\n",
        "                calcAzuleijo= ha*la;\n",
        "\n",
        "                resultado = calcAreaParede /calcAzuleijo;\n",
        "\n",
        "                if(calcAzuleijo >calcAreaParede) {\n",
        "\n",
        "                  System.out.println(\"o azuleijo e muito grande e nao cabe na parede\");\n",
        "                }\n",
        "                else{\n",
        "                System.out.println(\"Cabem na parede \" +resultado+ \" Azuleijo\");}\n",
        "            }\n",
        "          }\"\n",
        "          c) nota final dada pelo professor X:8.7\n",
        "          Avaliação 2:\n",
        "          a) descrição da atividade:\"Escreva um programa que, com base em uma temperatura em graus celsius, a converta e exiba em Kelvin (K), Réaumur (Re), Rankine (Ra) e Fahrenheit (F), seguindo as fórmulas:\n",
        "              F = C * 1.8 + 32;\n",
        "              K = C + 273.15;\n",
        "              Re = C * 0.8;\n",
        "              Ra = C * 1.8 + 32 + 459.67\n",
        "          \"\n",
        "          b) código fonte Java fornecido pelo aluno:\n",
        "          \"\n",
        "          public class Provajava {\n",
        "            public static void main(String[] args) {\n",
        "\n",
        "                int graus = 10;\n",
        "\n",
        "                double F = graus * 1.8 + 32;\n",
        "                double K = graus + 273.15;\n",
        "                double Re = graus * 0.8;\n",
        "                double Ra = graus  * 1.8 + 32 + 459.67;\n",
        "\n",
        "                System.out.println(\"Temperatura em Fahrenheit: \" + F);\n",
        "                System.out.println(\"Temperatura em Kelvin: \" + K);\n",
        "                System.out.println(\"Temperatura em Réaumur: \" + Re);\n",
        "                System.out.println(\"Temperatura em Rankine: \" + Ra);\n",
        "            }\n",
        "          }\n",
        "          \"\n",
        "          c) nota final dada pelo professor X: 7.8\n",
        "          Avaliação 3:\n",
        "          a) descrição da atividade:\"Escreva um programa que, com base em uma temperatura em graus celsius, a converta e exiba em Kelvin (K), Réaumur (Re), Rankine (Ra) e Fahrenheit (F), seguindo as fórmulas:\n",
        "              F = C * 1.8 + 32;\n",
        "              K = C + 273.15;\n",
        "              Re = C * 0.8;\n",
        "              Ra = C * 1.8 + 32 + 459.67\n",
        "          \"\n",
        "          b) código fonte Java fornecido pelo aluno:\n",
        "          \"\n",
        "          import java.util.Scanner;\n",
        "\n",
        "          public class Questao1 {\n",
        "            public static void main(String[] args) {\n",
        "\n",
        "                Scanner scan=new Scanner(System.in);\n",
        "                float c,f,k,re,ra;\n",
        "                System.out.print(\"Insira o valor em  graus celsius:\");\n",
        "                c=scan.nextFloat();\n",
        "                f = (float) (c * 1.8 + 32);\n",
        "                k = (float) (c + 273.15);\n",
        "                re = (float) (c * 0.8);\n",
        "                ra = (float) (c * 1.8 + 32 + 459.67);\n",
        "\n",
        "                System.out.println(\"A temperatura em Kelvin \"+k);\n",
        "                System.out.println(\"A temperatura em Réaumur \"+re);\n",
        "                System.out.println(\"A temperatura em Rankine \"+ra);\n",
        "                System.out.println(\"A temperatura em Fahrenheit \"+f);\n",
        "\n",
        "                scan.close();\n",
        "            }\n",
        "          }\n",
        "          \"\n",
        "          c) nota final dada pelo professor X: 10.0\n",
        "          Avaliação 4:\n",
        "          a) descrição da atividade:\"Crie um algoritmo que leia o valor do salário mínimo e o valor do salário de um usuário,\n",
        "          calcule a quantidade de salários mínimos esse usuário ganha e imprima o resultado (Salário Mínimo=R$1.320,00).\"\n",
        "          b) código fonte Java fornecido pelo aluno:\n",
        "          \"import java.util.Scanner;\n",
        "\n",
        "          public class Prova {\n",
        "            public static void main(String[] args) {\n",
        "                Scanner scanner = new Scanner(System.in);\n",
        "                System.out.println(\"Qual é seu Salário\");\n",
        "                double salario = scanner.nextDouble();\n",
        "                System.out.println(\"A Quantidade de vezes o salário mínimos ganhos é: \"+ salario/1320);\n",
        "            }\n",
        "          }\"\n",
        "          c) nota final dada pelo professor X:10.0\n",
        "          Avaliação 5:\n",
        "          a) descrição da atividade:\n",
        "          \"Escrever um algoritmo que leia:\n",
        "          a porcentagem do IPI a ser acrescido no valor das peças\n",
        "          o código da peça 1, valor unitário da peça 1, quantidade de peças 1\n",
        "          o código da peça 2, valor unitário da peça 2, quantidade de peças 2\n",
        "          O algoritmo deve calcular o valor total a ser pago e apresentar o resultado das duas peças como no exemplo abaixo:\n",
        "          Código           Qtde           Valor Unit         IPI         Total c/ IPI\n",
        "            1               10               245,50          10%            2700,50\n",
        "           33               10                50,00          10%             550,00\n",
        "                                                            Total Geral:    3250,50\n",
        "          Fórmula : (valor*quant)*(IPI/100 + 1)\"\n",
        "          b) código fonte Java fornecido pelo aluno:\n",
        "          \"import java.util.Scanner;\n",
        "\n",
        "          public class Teste01 {\n",
        "\n",
        "            public static void main(String[] args) {\n",
        "                Scanner scan = new Scanner (System.in);\n",
        "                int ipi;\n",
        "                int cod1;\n",
        "                double valorUnit1;\n",
        "                int qunt1;\n",
        "                int cod2;\n",
        "                double valorUnit2;\n",
        "                int qunt2;\n",
        "                double totalIpi1=0;\n",
        "                double totalIpi2=0;\n",
        "                double soma;\n",
        "                System.out.println(\"Entre com o valor do IPI: \");\n",
        "                ipi = scan.nextInt();\n",
        "\n",
        "                System.out.println(\"Entre com o Código da peça: \");\n",
        "                cod1 = scan.nextInt();\n",
        "\n",
        "                System.out.println(\"Entre com o valor unitário: \");\n",
        "                valorUnit1 = scan.nextDouble();\n",
        "\n",
        "                System.out.println(\"Entre com a quantidade de peças: \");\n",
        "                qunt1 = scan.nextInt();\n",
        "\n",
        "                System.out.println(\"Entre com o valor do IPI: \");\n",
        "                ipi = scan.nextInt();\n",
        "\n",
        "                System.out.println(\"Entre com o Código da peça: \");\n",
        "                cod2 = scan.nextInt();\n",
        "\n",
        "                System.out.println(\"Entre com o valor unitário: \");\n",
        "                valorUnit2 = scan.nextDouble();\n",
        "\n",
        "                System.out.println(\"Entre com a quantidade de peças: \");\n",
        "                qunt2 = scan.nextInt();\n",
        "\n",
        "                totalIpi1 = (valorUnit1*qunt1)*(ipi/100 + 1);\n",
        "                totalIpi2 = (valorUnit2*qunt2)*(ipi/100 + 1);\n",
        "                soma = totalIpi1 + totalIpi2;\n",
        "                System.out.println(soma);\n",
        "\n",
        "            }\n",
        "\n",
        "          }\"\n",
        "          c) nota final dada pelo professor X:4.7\n",
        "      \"\"\",\n",
        "      description=\"Agente que conhece o estilo do professor X para a correção do código Java\"\n",
        "  )\n",
        "\n",
        "  entrada_do_agente_normalizador = f\"Atividade {atividade} \\nCódigo fonte: {codigo_fonte} \\nResultado da Avaliação: {resultado_avaliacao}\"\n",
        "\n",
        "  avaliacao_normalizada = call_agent(normalizador, entrada_do_agente_normalizador)\n",
        "  return avaliacao_normalizada"
      ],
      "metadata": {
        "id": "sNcpQTRf4z-a"
      },
      "id": "sNcpQTRf4z-a",
      "execution_count": 19,
      "outputs": []
    },
    {
      "cell_type": "markdown",
      "id": "2a307f35",
      "metadata": {
        "id": "2a307f35"
      },
      "source": [
        "## 👨‍🏫 Orienta o aluno em como melhorar o seu aprendizado (Agente Orientador)"
      ]
    },
    {
      "cell_type": "code",
      "execution_count": 22,
      "id": "4621eeb6",
      "metadata": {
        "id": "4621eeb6"
      },
      "outputs": [],
      "source": [
        "###########################################\n",
        "# --- Agente 3: Orientador de Estudos --- #\n",
        "###########################################\n",
        "def agente_orientador(atividade, codigo_fonte, resultado_avaliacao):\n",
        "    orientador = Agent(\n",
        "        name=\"agente_orientador\",\n",
        "        model='gemini-2.0-flash',\n",
        "        instruction=\"\"\"\n",
        "            Você é um professor Orientador e Educador meticuloso, especializado em ensino de programação, com foco na linguagem Java.\n",
        "            Por ter um público jovem, universitários entre 18 e 25 anos, use um tom de escrita adequado.\n",
        "            Avalie o resultado da avaliação abaixo sobre o código Java da atividade avaliada, verificando os pontos de melhorias, os principais erros, as questões técnicas e padrões da linguagem Java e\n",
        "            considerando todo o seu conhecimento, as boas práticas e metodologias de aprendizagem pesquisadas a partir da ferramenta de busca do Google (google_search), faça um conjunto de considerações e\n",
        "            sugestões de estudo para que o aluno possa melhorar o seu código e o seu aprendizado da linguagem Java.\n",
        "            Faça também sugestões de tutoriais, artigos, livros, vídeo-aulas e cursos online/web que possam potencializar o aprendizado do aluno. Considere o grau de dificuldade de aprendizado do aluno,\n",
        "            baseado no seu resultado/nota para indicar um conjunto de material de estudo mais adequado ao nível de dificuldade do aluno.\n",
        "            Se o aluno obteve nota máxima, faça um elogio e sugestões de material para que ele possa avançar em profundidade noconhecimento da linguagem de programação Java.\n",
        "            \"\"\",\n",
        "        description=\"Agente orientador de aprendizado da linguagem Java.\",\n",
        "        tools=[google_search]\n",
        "    )\n",
        "    entrada_do_agente_revisor = f\"Atividade {atividade} \\nCódigo fonte: {codigo_fonte} \\nResultado da Avaliação: {resultado_avaliacao}\"\n",
        "    # Executa o agente\n",
        "    texto_revisado = call_agent(orientador, entrada_do_agente_revisor)\n",
        "    return texto_revisado"
      ]
    },
    {
      "cell_type": "markdown",
      "id": "16945309",
      "metadata": {
        "id": "16945309"
      },
      "source": [
        "## 🤖 Avaliação do código pelo agente JavaSensei"
      ]
    },
    {
      "cell_type": "code",
      "execution_count": 23,
      "id": "6c874a92",
      "metadata": {
        "colab": {
          "base_uri": "https://localhost:8080/",
          "height": 1000
        },
        "id": "6c874a92",
        "outputId": "a4503333-4bbf-49f2-fba3-ff6f598e692e"
      },
      "outputs": [
        {
          "output_type": "stream",
          "name": "stdout",
          "text": [
            "🚀 Iniciando o Sistema de Avaliação de Código Java com 4 Agentes 🚀\n",
            "Maravilha! Vamos então avaliar o seu código fonte!\n",
            "\n",
            "--- 📝 Resultado do Agente 1 (Avaliador) ---\n",
            "\n"
          ]
        },
        {
          "output_type": "display_data",
          "data": {
            "text/plain": [
              "<IPython.core.display.Markdown object>"
            ],
            "text/markdown": "> Ok, vou avaliar o código Java que você forneceu para calcular o reajuste de 1% sobre um saldo.\n> \n> \n> ## Avaliação do Código\n> \n> Com base nos critérios fornecidos, aqui está a avaliação do seu código:\n> \n> **1. Estilo (Peso: 0.1):**\n> \n> *   **Nota:** 7.0\n> *   **Comentários:** O código é relativamente simples, mas carece de comentários explicando o propósito do programa e das variáveis. A nomenclatura `in` para o objeto `Scanner` é comum, mas poderia ser mais descritiva em projetos maiores. A identação está correta, o que ajuda na legibilidade.\n> \n> **2. Funcionalidades Atendidas (Peso: 0.7):**\n> \n> *   **Nota:** 4.0\n> *   **Comentários:** O código recebe um valor do usuário e imprime o saldo, mas não realiza o cálculo do reajuste de 1%, conforme solicitado na atividade.\n> \n> **3. Clareza (Peso: 0.1):**\n> \n> *   **Nota:** 8.0\n> *   **Comentários:** O código é fácil de entender devido à sua simplicidade e boa identação. As mensagens para o usuário são claras, embora possam ser mais amigáveis.\n> \n> **4. Completude (Peso: 0.1):**\n> \n> *   **Nota:** 4.0\n> *   **Comentários:** O código está incompleto, pois não implementa a lógica para calcular e exibir o saldo com o reajuste de 1%.\n> \n> ### Penalidades:\n> \n> *   Falta de comentários: -0.5\n> *   Código incompleto: -2.0\n> \n> ### Cálculo da Nota Final:\n> \n> Nota final = (0.1 \\* 7.0) + (0.7 \\* 4.0) + (0.1 \\* 8.0) + (0.1 \\* 4.0) - 0.5 - 2.0 = 0.7 + 2.8 + 0.8 + 0.4 - 0.5 - 2.0 = 1.2\n> \n> **Nota Final: 1.2**\n> \n> ### Sugestões:\n> \n> 1.  **Implementar o cálculo do reajuste:** Adicione a lógica para calcular o reajuste de 1% sobre o saldo.\n> 2.  **Exibir o saldo reajustado:** Imprima o valor do saldo após o reajuste.\n> 3.  **Adicionar comentários:** Inclua comentários para explicar o propósito do código e das variáveis, melhorando a compreensão.\n> 4.  **Melhorar as mensagens ao usuário:** Torne as mensagens de entrada e saída mais amigáveis e informativas.\n> \n> ### Código revisado\n> \n> \n> ```java\n> import java.util.Scanner;\n> \n> public class Saldo {\n> \n>     public static void main(String[] args) {\n> \n>         // Cria um objeto Scanner para receber dados do usuário\n>         Scanner input = new Scanner(System.in);\n> \n>         // Solicita ao usuário que digite o valor do saldo\n>         System.out.println(\"Digite o valor do saldo:\");\n> \n>         // Lê o valor do saldo digitado pelo usuário\n>         float saldo = input.nextFloat();\n> \n>         // Calcula o reajuste de 1% sobre o saldo\n>         float reajuste = saldo * 0.01f;\n>         float novoSaldo = saldo + reajuste;\n> \n>         // Imprime o saldo original\n>         System.out.println(\"Saldo original: \" + saldo);\n> \n>         // Imprime o saldo com o reajuste de 1%\n>         System.out.println(\"Saldo com reajuste de 1%: \" + novoSaldo);\n> \n>         // Fecha o objeto Scanner\n>         input.close();\n>     }\n> }\n> ```\n> \n> \n> **Feedback:** Seu código possui algumas falhas que precisam ser revisadas. Verifique a lógica e a implementação do cálculo do reajuste. Adicione os comentários explicativos.\n> \n"
          },
          "metadata": {}
        },
        {
          "output_type": "stream",
          "name": "stdout",
          "text": [
            "--------------------------------------------------------------\n",
            "\n",
            "--- 📝 Resultado do Agente 2 (Normalizador) ---\n",
            "\n"
          ]
        },
        {
          "output_type": "display_data",
          "data": {
            "text/plain": [
              "<IPython.core.display.Markdown object>"
            ],
            "text/markdown": "> A nota fornecida pelo especialista (1.2) parece muito baixa em relação ao que o professor X geralmente atribui. Analisando os exemplos fornecidos, o professor X tende a ser mais generoso, mesmo com códigos que não estão totalmente completos ou que possuem pequenas falhas.\n> \n> No caso presente, o código cumpre parcialmente o que foi solicitado: ele recebe a entrada do usuário e imprime o saldo. A principal falha é não calcular o reajuste. No entanto, a estrutura básica do programa está correta.\n> \n> Aplicando o estilo de avaliação do professor X, podemos considerar o seguinte:\n> \n> *   **O código compila e executa:** Isso já é um ponto positivo.\n> *   **Entrada e Saída:** A entrada e saída de dados funcionam, embora a saída seja incompleta.\n> *   **Lógica:** A lógica está *parcialmente* correta (receber o saldo).\n> *   **Estrutura:** A estrutura do código é simples e compreensível.\n> \n> Considerando que o código não implementa o reajuste, mas possui uma estrutura funcional, e seguindo a lógica das avaliações anteriores do professor X, uma nota mais adequada seria em torno de 6.5. Abaixo está o raciocínio para chegar a essa nota, levando em consideração as penalidades e a avaliação parcial:\n> \n> 1.  **Nota Base:** Começamos com uma nota base de 7.0 (considerando que o código compila, tem entrada/saída funcionando e uma estrutura básica).\n> \n> 2.  **Penalidades:**\n>     *   Falta do cálculo do reajuste (funcionalidade principal não atendida): -1.0\n>     *   Falta de comentários explicativos: -0.5\n> \n> 3.  **Ajuste:** 7.0 - 1.0 - 0.5 = 5.5\n> \n> 4.  **Consideração da Lógica Parcialmente Correta:** A lógica para receber o valor está correta. A falta do cálculo impacta a nota, mas não a zera, visto que parte da atividade foi entregue.\n> \n> 5.  **Comparativo com os exemplos:** O código é melhor que o do exemplo 5 (nota 4.7) onde há vários problemas. Se assemelha mais ao código do exemplo 2, onde a atividade foi cumprida, mas de forma muito simplificada, recebendo nota 7.8.\n> \n> **Nota Final Normalizada: 6.5**\n> \n> **Feedback para o Aluno:**\n> \n> \"Você está no caminho certo! A estrutura do seu código está boa e ele recebe corretamente o valor do saldo. Para melhorar, adicione o cálculo do reajuste de 1% e exiba o novo saldo. Incluir alguns comentários para explicar cada parte do código também ajudará na clareza. Continue praticando!\"\n> \n"
          },
          "metadata": {}
        },
        {
          "output_type": "stream",
          "name": "stdout",
          "text": [
            "--------------------------------------------------------------\n",
            "\n",
            "--- 📝 Resultado do Agente 3 (Orientador) ---\n",
            "\n"
          ]
        },
        {
          "output_type": "display_data",
          "data": {
            "text/plain": [
              "<IPython.core.display.Markdown object>"
            ],
            "text/markdown": "> Olá! Tudo bem? Analisando a sua atividade, vejo que você tem um bom começo, mas ainda há espaço para melhorias significativas. A nota 1.2 reflete que alguns pontos essenciais da atividade não foram implementados corretamente. Mas não se preocupe, estou aqui para te ajudar a entender onde você pode melhorar e como você pode aprofundar seus conhecimentos em Java.\n> \n> ### Considerações e Sugestões de Estudo\n> \n> 1.  **Implementação do Cálculo do Reajuste:**\n>     *   O ponto crucial que faltou foi o cálculo do reajuste de 1%. Para calcular um reajuste percentual, você precisa multiplicar o saldo pelo percentual desejado e somar ao saldo original. No seu caso, 1% é representado por 0.01.\n> \n> 2.  **Exibição do Saldo Reajustado:**\n>     *   Além de calcular o reajuste, é importante exibir o resultado para o usuário. Isso mostra que o programa realmente fez o que foi proposto.\n> \n> 3.  **Comentários no Código:**\n>     *   Comentários são importantes para explicar o que cada parte do código faz. Eles ajudam outras pessoas (e você mesmo no futuro) a entenderem a lógica do programa. No seu código revisado, já adicionei alguns comentários para te dar um exemplo.\n> \n> 4.  **Melhoria das Mensagens ao Usuário:**\n>     *   As mensagens para o usuário podem ser mais amigáveis e informativas. Em vez de apenas \"digite o valor depositado\", você pode usar algo como \"Por favor, insira o valor do saldo inicial:\".\n> \n> ### Sugestões de Materiais de Estudo\n> \n> Considerando que você precisa fortalecer a lógica de programação e a implementação em Java, sugiro os seguintes materiais:\n> \n> 1.  **Tutoriais e Cursos Online:**\n>     *   **Curso em Vídeo de Java do Gustavo Guanabara:** Excelente para iniciantes, aborda desde o básico até conceitos mais avançados. A didática do professor é muito boa e o curso é gratuito no YouTube.\n>         *   Link: [https://www.cursoemvideo.com/curso/java-basico/](https://www.cursoemvideo.com/curso/java-basico/)\n>     *   **Alura:** Oferece cursos de Java com foco em desenvolvimento web e empresarial. A plataforma é paga, mas vale o investimento pela qualidade do conteúdo e suporte.\n>         *   Link: [https://www.alura.com.br/cursos-online-java](https://www.alura.com.br/cursos-online-java)\n>     *   **Udemy:** Possui diversos cursos de Java, desde o básico até tópicos avançados como Spring Framework. Verifique as avaliações e escolha um curso que se adapte ao seu estilo de aprendizado.\n>         *   Link: [https://www.udemy.com/topic/java/](https://www.udemy.com/topic/java/)\n> \n> 2.  **Livros:**\n>     *   **\"Java: Como Programar\" de Paul Deitel e Harvey Deitel:** Um livro completo que aborda todos os aspectos da linguagem Java, desde os fundamentos até tópicos avançados.\n>     *   **\"Effective Java\" de Joshua Bloch:** Focado em boas práticas de programação em Java, ideal para quem já tem alguma experiência e quer escrever código de alta qualidade.\n> \n> 3.  **Artigos e Documentação:**\n>     *   **Documentação Oficial da Oracle Java:** A fonte mais confiável para informações detalhadas sobre a linguagem Java.\n>         *   Link: [https://docs.oracle.com/en/java/](https://docs.oracle.com/en/java/)\n>     *   **Artigos da Digital Ocean sobre Java:** Oferecem guias práticos e tutoriais sobre diversos tópicos de Java.\n>         *   Link: [https://www.digitalocean.com/community/tutorials?q=java](https://www.digitalocean.com/community/tutorials?q=java)\n> \n> ### Próximos Passos\n> \n> 1.  **Revise o Código:**\n>     *   Use o código revisado que forneci como base e tente entender cada linha. Veja como o cálculo do reajuste foi implementado e como o resultado é exibido.\n> \n> 2.  **Pratique:**\n>     *   A melhor forma de aprender é praticando. Tente modificar o código para calcular reajustes diferentes (por exemplo, 5%, 10%).\n>     *   Crie pequenos programas para resolver problemas simples. Isso vai te ajudar a fixar o conhecimento.\n> \n> 3.  **Estude a Lógica de Programação:**\n>     *   Se você está com dificuldades na lógica, procure exercícios e materiais sobre algoritmos e estruturas de dados. Isso vai te dar uma base sólida para programar em qualquer linguagem.\n> \n> 4.  **Use Recursos Online:**\n>     *   Aproveite os cursos e tutoriais que sugeri. Eles vão te dar uma visão mais completa da linguagem Java e te ajudar a resolver problemas mais complexos.\n> \n> Lembre-se, aprender a programar leva tempo e dedicação. Não desanime com os erros e continue praticando. Se precisar de ajuda, pode me perguntar! 😊\n> \n"
          },
          "metadata": {}
        },
        {
          "output_type": "stream",
          "name": "stdout",
          "text": [
            "--------------------------------------------------------------\n"
          ]
        }
      ],
      "source": [
        "print(\"🚀 Iniciando o Sistema de Avaliação de Código Java com 4 Agentes 🚀\")\n",
        "\n",
        "# --- Obter o Tópico do Usuário ---\n",
        "atividade_1 = \"Escreva um código java que imprima na tela a mensagem 'Olá, mundo!'\"\n",
        "\n",
        "codigo_java_1 = \"\"\"public class HelloWorld {\n",
        "    public static void main(String[] args) {\n",
        "        System.out.println(\"Olá, mundo!\");\n",
        "    }\n",
        "}\n",
        "\"\"\"\n",
        "atividade = \"Leia o valor de um saldo e informe o saldo e o seu valor com reajuste de 1%.\"\n",
        "codigo_java = \"\"\"\n",
        "import java.util.Scanner;\n",
        "public class Saldo {\n",
        "\n",
        "   public static void main(String[] args) {\n",
        "\n",
        "   Scanner in = new Scanner(System.in);\n",
        "\n",
        "      System.out.println(\"digite o valor depositado\");\n",
        "\n",
        "   float saldo = in.nextFloat();\n",
        "\n",
        "      System.out.println(\"imprimindo saldo: \"+saldo);\n",
        "      in.close();\n",
        "   }\n",
        "\n",
        "}\n",
        "\"\"\"\n",
        "#atividade = input(\"❓ Por favor, digite o ATIVIDADE relacionada ao código Java que será avaliado: \")\n",
        "\n",
        "\n",
        "# Inserir lógica do sistema de agentes\n",
        "if not atividade:\n",
        "  print(\"Você esqueceu de digitar a atividade!\")\n",
        "else:\n",
        "  #codigo_java = input(\"❓ Por favor, digite o CÓDIGO JAVA que será avaliado: \")\n",
        "  if not codigo_java:\n",
        "    print(\"Você esqueceu de digitar o código fonte!\")\n",
        "  else:\n",
        "    print(\"Maravilha! Vamos então avaliar o seu código fonte!\")\n",
        "\n",
        "    resultado_avaliacao = agente_avaliador(atividade, codigo_java)\n",
        "    print(\"\\n--- 📝 Resultado do Agente 1 (Avaliador) ---\\n\")\n",
        "    display(to_markdown(resultado_avaliacao))\n",
        "    print(\"--------------------------------------------------------------\")\n",
        "\n",
        "    avaliacao_normalizada = agente_normalizador(atividade, codigo_java, resultado_avaliacao)\n",
        "    print(\"\\n--- 📝 Resultado do Agente 2 (Normalizador) ---\\n\")\n",
        "    display(to_markdown(avaliacao_normalizada))\n",
        "    print(\"--------------------------------------------------------------\")\n",
        "\n",
        "    orientacao_recebida = agente_orientador(atividade, codigo_java, resultado_avaliacao)\n",
        "    print(\"\\n--- 📝 Resultado do Agente 3 (Orientador) ---\\n\")\n",
        "    display(to_markdown(orientacao_recebida))\n",
        "    print(\"--------------------------------------------------------------\")"
      ]
    }
  ],
  "metadata": {
    "colab": {
      "provenance": [],
      "include_colab_link": true
    },
    "language_info": {
      "name": "python"
    },
    "kernelspec": {
      "name": "python3",
      "display_name": "Python 3"
    }
  },
  "nbformat": 4,
  "nbformat_minor": 5
}